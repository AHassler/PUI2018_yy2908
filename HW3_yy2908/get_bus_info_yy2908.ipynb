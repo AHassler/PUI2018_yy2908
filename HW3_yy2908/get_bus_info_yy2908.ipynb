{
 "cells": [
  {
   "cell_type": "code",
   "execution_count": 1,
   "metadata": {},
   "outputs": [
    {
     "name": "stdout",
     "output_type": "stream",
     "text": [
      "Invalid arguments. Please run as python3 get_bus_info_ty1045.py <MTA_KEY> <BUS_LINE> <BUS_LINE>.csv\n"
     ]
    },
    {
     "ename": "SystemExit",
     "evalue": "",
     "output_type": "error",
     "traceback": [
      "An exception has occurred, use %tb to see the full traceback.\n",
      "\u001b[0;31mSystemExit\u001b[0m\n"
     ]
    },
    {
     "name": "stderr",
     "output_type": "stream",
     "text": [
      "/nfshome/yy2908/.conda/envs/Shelly/lib/python3.6/site-packages/IPython/core/interactiveshell.py:2969: UserWarning: To exit: use 'exit', 'quit', or Ctrl-D.\n",
      "  warn(\"To exit: use 'exit', 'quit', or Ctrl-D.\", stacklevel=1)\n"
     ]
    }
   ],
   "source": [
    "from __future__ import print_function\n",
    "import json\n",
    "try:\n",
    "    import urllib2 as urllib\n",
    "except ImportError:\n",
    "    import urllib.request as urllib\n",
    "import os\n",
    "import sys\n",
    "import csv\n",
    "import pandas as pd\n",
    "\n",
    "apikey = array[1]\n",
    "busline = array[2]\n",
    "busline_csv = array[3]\n",
    "\n",
    "if len(array) != 4:\n",
    "    print (\"Invalid number of arguments. Run as: python get_bus_info_cd2682.py apikey busline busline.csv\")\n",
    "    sys.exit()\n",
    "\n",
    "mtaurl = \"http://bustime.mta.info/api/siri/vehicle-monitoring.json?key=%s&VehicleMonitoringDetailLevel=calls&LineRef=%s\"%(apikey,busline)\n",
    "print (mtaurl)\n",
    "response = urllib.urlopen(mtaurl)\n",
    "data = response.read().decode(\"utf-8\")\n",
    "dataDict = json.loads(data)\n",
    "\n",
    "Buses = dataDict['Siri']['ServiceDelivery']['VehicleMonitoringDelivery'][0]['VehicleActivity']\n",
    "latitude, longitude, stop_name, stop_status = [], [], [], []\n",
    "\n",
    "for i in range(0, len(Buses)):\n",
    "    latitude.append(Buses[i]['MonitoredVehicleJourney']['VehicleLocation']['Latitude'])\n",
    "    longitude.append(Buses[i]['MonitoredVehicleJourney']['VehicleLocation']['Longitude'])\n",
    "   \n",
    "    if len(Buses[i]['MonitoredVehicleJourney']['OnwardCalls']) == 0:\n",
    "        stop_name.append('N/A')\n",
    "        stop_status.append('N/A')\n",
    "    else:\n",
    "        stop_name.append(Buses[i]['MonitoredVehicleJourney']['OnwardCalls']['OnwardCall'][0]['StopPointName'])\n",
    "        stop_status.append(Buses[i]['MonitoredVehicleJourney']['OnwardCalls']['OnwardCall'][0]['Extensions']['Distances']['PresentableDistance'])\n",
    "\n",
    "dic = {'Latitude' : latitude, 'Longitude' : longitude, 'Stop Name' : stop_name,'Stop Status' : stop_status}\n",
    "result = pd.DataFrame(data=dic).to_csv(busline_csv, index=False)\n",
    "\n"
   ]
  }
 ],
 "metadata": {
  "kernelspec": {
   "display_name": "Shelly",
   "language": "python",
   "name": "shelly"
  },
  "language_info": {
   "codemirror_mode": {
    "name": "ipython",
    "version": 3
   },
   "file_extension": ".py",
   "mimetype": "text/x-python",
   "name": "python",
   "nbconvert_exporter": "python",
   "pygments_lexer": "ipython3",
   "version": "3.6.6"
  }
 },
 "nbformat": 4,
 "nbformat_minor": 2
}
