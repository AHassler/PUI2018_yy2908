{
 "cells": [
  {
   "cell_type": "code",
   "execution_count": null,
   "metadata": {},
   "outputs": [],
   "source": [
    "from __future__ import print_function\n",
    "import json\n",
    "try:\n",
    "    import urllib2 as urllib \n",
    "except ImportError:\n",
    "    import urllib.request as urllib\n",
    "import os\n",
    "import sys \n",
    "\n",
    "apikey = sys.argv[1]\n",
    "busline = sys.argv[2]\n",
    "\n",
    "if len(sys.argv) != 3:\n",
    "    print (\"Invalid number of arguments. Run as: python show_bus_locations_cd2682.py apikey busline\")\n",
    "    sys.exit()\n",
    "\n",
    "\n",
    "mtaurl = \"http://bustime.mta.info/api/siri/vehicle-monitoring.json?key=%s&VehicleMonitoringDetailLevel=calls&LineRef=%s\"%(apikey,busline)\n",
    "print (mtaurl)\n",
    "response = urllib.urlopen(mtaurl)\n",
    "data = response.read().decode(\"utf-8\")\n",
    "dataDict = json.loads(data)\n",
    "\n",
    "'''\n",
    "print (dataDict)\n",
    "'''\n",
    "Buses = dataDict['Siri']['ServiceDelivery']['VehicleMonitoringDelivery'][0]['VehicleActivity']\n",
    "\n",
    "print ('Bus line: %s'%(busline))\n",
    "print ('Number of Active Buses: %s'%(len(Buses)))\n",
    "\n",
    "for i in range(0, len(Buses)):\n",
    "    latitude = Buses[i]['MonitoredVehicleJourney']['VehicleLocation']['Latitude']\n",
    "    longitude = Buses[i]['MonitoredVehicleJourney']['VehicleLocation']['Longitude']\n",
    "    print('Bus %s is at latitude %s and longtitude %s'%(i,latitude,longitude))\n"
   ]
  }
 ],
 "metadata": {
  "kernelspec": {
   "display_name": "Shelly",
   "language": "python",
   "name": "shelly"
  },
  "language_info": {
   "codemirror_mode": {
    "name": "ipython",
    "version": 3
   },
   "file_extension": ".py",
   "mimetype": "text/x-python",
   "name": "python",
   "nbconvert_exporter": "python",
   "pygments_lexer": "ipython3",
   "version": "3.6.6"
  }
 },
 "nbformat": 4,
 "nbformat_minor": 2
}
